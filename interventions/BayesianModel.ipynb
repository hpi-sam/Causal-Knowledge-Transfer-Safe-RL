{
 "cells": [
  {
   "cell_type": "markdown",
   "metadata": {},
   "source": [
    "Generate Posterior distributions of Interventions on the Environment's (traffic signal control) Causal Graph"
   ]
  },
  {
   "cell_type": "code",
   "execution_count": null,
   "metadata": {},
   "outputs": [
    {
     "name": "stdout",
     "output_type": "stream",
     "text": [
      "<bound method NDFrame.head of       desiredSpeed  friction  speed  waitingTime  emergencyBraking  collisions\n",
      "0        13.888889  1.000000  12.53     0.714448                 9          27\n",
      "1        13.888889  0.921260  12.60     0.742518                17          35\n",
      "2        13.888889  0.925472  12.46     0.751977                16          22\n",
      "3        13.888889  0.965209  12.56     0.729994                10          25\n",
      "4        13.888889  0.974237  12.42     0.875622                 5          29\n",
      "...            ...       ...    ...          ...               ...         ...\n",
      "1995      8.333333  0.924307   7.49     1.192152                 0          44\n",
      "1996      8.333333  0.728548   7.47     0.972897                 2          38\n",
      "1997      8.333333  0.701690   7.50     0.773050                 8          36\n",
      "1998      8.333333  0.863973   7.37     1.465583                 0          39\n",
      "1999      8.333333  0.805321   7.43     1.035610                 1          24\n",
      "\n",
      "[2000 rows x 6 columns]>\n"
     ]
    }
   ],
   "source": [
    "import pandas as pd\n",
    "import pymc as pm\n",
    "import numpy as np\n",
    "import pandas as pd\n",
    "import matplotlib.pyplot as plt\n",
    "import seaborn as sns\n",
    "\n",
    "df = pd.read_csv('./data/data_trace_generation_sumo_desiredSpeed50_friction1.csv')\n",
    "print(df.head)\n",
    "\n",
    "\n",
    "\n",
    "\n",
    "\n"
   ]
  },
  {
   "cell_type": "code",
   "execution_count": null,
   "metadata": {},
   "outputs": [],
   "source": [
    "#Example\n",
    "# Generate some synthetic data\n",
    "np.random.seed(123)\n",
    "x = np.random.randn(100)\n",
    "y = 2 * x + 1 + np.random.randn(100) * 0.5\n",
    "\n",
    "# Define the Bayesian model\n",
    "with pm.Model() as model:\n",
    "    # Priors for the model parameters\n",
    "    slope = pm.Normal('slope', mu=0, sigma=1)\n",
    "    intercept = pm.Normal('intercept', mu=0, sigma=1)\n",
    "    sigma = pm.HalfNormal('sigma', sigma=1)\n",
    "\n",
    "    # Likelihood function\n",
    "    likelihood = pm.Normal('y', mu=slope * x + intercept, sigma=sigma, observed=y)\n",
    "\n",
    "    # Inference\n",
    "    trace = pm.sample(2000, tune=1000)\n",
    "\n",
    "# Summarize the posterior distribution\n",
    "pm.summary(trace)"
   ]
  },
  {
   "cell_type": "code",
   "execution_count": null,
   "metadata": {},
   "outputs": [],
   "source": []
  },
  {
   "cell_type": "code",
   "execution_count": null,
   "metadata": {},
   "outputs": [
    {
     "name": "stderr",
     "output_type": "stream",
     "text": [
      "Initializing NUTS using jitter+adapt_diag...\n",
      "Multiprocess sampling (4 chains in 4 jobs)\n",
      "NUTS: [slope, intercept, sigma]\n"
     ]
    },
    {
     "data": {
      "text/html": [
       "<pre style=\"white-space:pre;overflow-x:auto;line-height:normal;font-family:Menlo,'DejaVu Sans Mono',consolas,'Courier New',monospace\">/opt/anaconda3/envs/pymc_env/lib/python3.12/site-packages/rich/live.py:231: UserWarning: install \"ipywidgets\" for \n",
       "Jupyter support\n",
       "  warnings.warn('install \"ipywidgets\" for Jupyter support')\n",
       "</pre>\n"
      ],
      "text/plain": [
       "/opt/anaconda3/envs/pymc_env/lib/python3.12/site-packages/rich/live.py:231: UserWarning: install \"ipywidgets\" for \n",
       "Jupyter support\n",
       "  warnings.warn('install \"ipywidgets\" for Jupyter support')\n"
      ]
     },
     "metadata": {},
     "output_type": "display_data"
    },
    {
     "data": {
      "text/html": [
       "<pre style=\"white-space:pre;overflow-x:auto;line-height:normal;font-family:Menlo,'DejaVu Sans Mono',consolas,'Courier New',monospace\"></pre>\n"
      ],
      "text/plain": []
     },
     "metadata": {},
     "output_type": "display_data"
    },
    {
     "name": "stderr",
     "output_type": "stream",
     "text": [
      "Sampling 4 chains for 1_000 tune and 2_000 draw iterations (4_000 + 8_000 draws total) took 39 seconds.\n"
     ]
    },
    {
     "data": {
      "text/html": [
       "<div>\n",
       "<style scoped>\n",
       "    .dataframe tbody tr th:only-of-type {\n",
       "        vertical-align: middle;\n",
       "    }\n",
       "\n",
       "    .dataframe tbody tr th {\n",
       "        vertical-align: top;\n",
       "    }\n",
       "\n",
       "    .dataframe thead th {\n",
       "        text-align: right;\n",
       "    }\n",
       "</style>\n",
       "<table border=\"1\" class=\"dataframe\">\n",
       "  <thead>\n",
       "    <tr style=\"text-align: right;\">\n",
       "      <th></th>\n",
       "      <th>mean</th>\n",
       "      <th>sd</th>\n",
       "      <th>hdi_3%</th>\n",
       "      <th>hdi_97%</th>\n",
       "      <th>mcse_mean</th>\n",
       "      <th>mcse_sd</th>\n",
       "      <th>ess_bulk</th>\n",
       "      <th>ess_tail</th>\n",
       "      <th>r_hat</th>\n",
       "    </tr>\n",
       "  </thead>\n",
       "  <tbody>\n",
       "    <tr>\n",
       "      <th>slope</th>\n",
       "      <td>0.795</td>\n",
       "      <td>0.058</td>\n",
       "      <td>0.688</td>\n",
       "      <td>0.902</td>\n",
       "      <td>0.001</td>\n",
       "      <td>0.001</td>\n",
       "      <td>3391.0</td>\n",
       "      <td>4069.0</td>\n",
       "      <td>1.0</td>\n",
       "    </tr>\n",
       "    <tr>\n",
       "      <th>intercept</th>\n",
       "      <td>21.574</td>\n",
       "      <td>0.678</td>\n",
       "      <td>20.294</td>\n",
       "      <td>22.834</td>\n",
       "      <td>0.012</td>\n",
       "      <td>0.008</td>\n",
       "      <td>3343.0</td>\n",
       "      <td>4181.0</td>\n",
       "      <td>1.0</td>\n",
       "    </tr>\n",
       "    <tr>\n",
       "      <th>sigma</th>\n",
       "      <td>0.788</td>\n",
       "      <td>0.601</td>\n",
       "      <td>0.001</td>\n",
       "      <td>1.863</td>\n",
       "      <td>0.010</td>\n",
       "      <td>0.007</td>\n",
       "      <td>2428.0</td>\n",
       "      <td>1757.0</td>\n",
       "      <td>1.0</td>\n",
       "    </tr>\n",
       "  </tbody>\n",
       "</table>\n",
       "</div>"
      ],
      "text/plain": [
       "             mean     sd  hdi_3%  hdi_97%  mcse_mean  mcse_sd  ess_bulk  \\\n",
       "slope       0.795  0.058   0.688    0.902      0.001    0.001    3391.0   \n",
       "intercept  21.574  0.678  20.294   22.834      0.012    0.008    3343.0   \n",
       "sigma       0.788  0.601   0.001    1.863      0.010    0.007    2428.0   \n",
       "\n",
       "           ess_tail  r_hat  \n",
       "slope        4069.0    1.0  \n",
       "intercept    4181.0    1.0  \n",
       "sigma        1757.0    1.0  "
      ]
     },
     "execution_count": 13,
     "metadata": {},
     "output_type": "execute_result"
    }
   ],
   "source": [
    "#Fit total effect of Desired Speed or Friction\n",
    "#shift in friction from \n",
    "#  \n",
    "x = df['desiredSpeed']\n",
    "#y = df['waitingTime'] #zero slope\n",
    "y = df['collisions'] #0.2 slope\n",
    "\n",
    "#x = df['friction']\n",
    "#y = df['waitingTime'] #-7.9 slope\n",
    "#y = df['collisions'] #-4.0 slope\n",
    "\n",
    "\n",
    "\n",
    "with pm.Model() as model:\n",
    "    #setup priors for the model parameters\n",
    "    slope = pm.Normal('slope', mu=0, sigma=1)\n",
    "    intercept = pm.HalfNormal('intercept', sigma=1)\n",
    "    sigma = pm.HalfNormal('sigma', sigma=1)##???????\n",
    "\n",
    "    # Likelihood function\n",
    "    #likelihood = pm.Normal('y', mu= slope * x + intercept, sigma=sigma, observed=y)\n",
    "\n",
    "    # Linear function for the mean\n",
    "    mu = intercept + slope * x \n",
    "    \n",
    "    # Ensure mu is positive\n",
    "    mu_positive = pm.math.maximum(mu, 0) # or pm.Deterministic('mu_positive', pm.math.maximum(mu, 0)) for explicitly defining\n",
    "\n",
    "    # Likelihood\n",
    "    likelihood = pm.HalfNormal('y', sigma=mu_positive, observed=y) \n",
    "\n",
    "\n",
    "    # Inference\n",
    "    trace = pm.sample(2000, tune=1000)\n",
    "\n",
    "# Summarize the posterior distribution\n",
    "pm.summary(trace)"
   ]
  }
 ],
 "metadata": {
  "kernelspec": {
   "display_name": "pymc_env",
   "language": "python",
   "name": "python3"
  },
  "language_info": {
   "codemirror_mode": {
    "name": "ipython",
    "version": 3
   },
   "file_extension": ".py",
   "mimetype": "text/x-python",
   "name": "python",
   "nbconvert_exporter": "python",
   "pygments_lexer": "ipython3",
   "version": "3.12.7"
  }
 },
 "nbformat": 4,
 "nbformat_minor": 2
}
