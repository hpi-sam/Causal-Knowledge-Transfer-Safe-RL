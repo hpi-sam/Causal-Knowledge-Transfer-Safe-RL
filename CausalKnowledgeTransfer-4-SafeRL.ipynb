{
 "cells": [
  {
   "metadata": {},
   "cell_type": "markdown",
   "source": "# Causal Knowledge Transfer for Safe Reinforcement Learning",
   "id": "9b3534bf33e6bed9"
  },
  {
   "metadata": {},
   "cell_type": "markdown",
   "source": "#### Train Agents",
   "id": "76a3883d1cec1ee8"
  },
  {
   "cell_type": "code",
   "id": "initial_id",
   "metadata": {
    "collapsed": true,
    "ExecuteTime": {
     "end_time": "2024-08-14T23:07:18.502036Z",
     "start_time": "2024-08-14T23:07:18.498148Z"
    }
   },
   "source": "# TODO",
   "outputs": [
    {
     "data": {
      "text/plain": [
       "123"
      ]
     },
     "execution_count": 2,
     "metadata": {},
     "output_type": "execute_result"
    }
   ],
   "execution_count": 2
  },
  {
   "metadata": {},
   "cell_type": "markdown",
   "source": "#### Produce Traces",
   "id": "4f83a5026c16fe31"
  },
  {
   "metadata": {},
   "cell_type": "code",
   "outputs": [],
   "execution_count": null,
   "source": "# TODO",
   "id": "b973182d439275c6"
  },
  {
   "metadata": {},
   "cell_type": "markdown",
   "source": "#### Causal Discovery",
   "id": "1de43ea98a1365db"
  },
  {
   "metadata": {},
   "cell_type": "code",
   "outputs": [],
   "execution_count": null,
   "source": "# TODO",
   "id": "ca7bf3cc83299253"
  },
  {
   "metadata": {},
   "cell_type": "markdown",
   "source": "#### Fit MLMs",
   "id": "a3d03cf3105ec494"
  },
  {
   "metadata": {},
   "cell_type": "code",
   "outputs": [],
   "execution_count": null,
   "source": "# TODO",
   "id": "829786814c4f2bda"
  },
  {
   "metadata": {},
   "cell_type": "markdown",
   "source": "#### Produce Interventions",
   "id": "a5c99e021c7da84f"
  },
  {
   "metadata": {},
   "cell_type": "code",
   "outputs": [],
   "execution_count": null,
   "source": "# TODO",
   "id": "32459df33ac2d588"
  },
  {
   "metadata": {},
   "cell_type": "markdown",
   "source": "#### Generate Posterior Distributions",
   "id": "c86f426933c2843a"
  },
  {
   "metadata": {},
   "cell_type": "code",
   "outputs": [],
   "execution_count": null,
   "source": "# TODO",
   "id": "730155056916357a"
  },
  {
   "metadata": {},
   "cell_type": "markdown",
   "source": "#### Query",
   "id": "71229ba166fe756f"
  },
  {
   "metadata": {},
   "cell_type": "code",
   "outputs": [],
   "execution_count": null,
   "source": "# TODO",
   "id": "73190c3130a276a3"
  },
  {
   "metadata": {},
   "cell_type": "markdown",
   "source": "#### Evaluation",
   "id": "6cdb163f340d239c"
  },
  {
   "metadata": {},
   "cell_type": "code",
   "outputs": [],
   "execution_count": null,
   "source": "# TODO",
   "id": "b28fb56662cf1a7a"
  }
 ],
 "metadata": {
  "kernelspec": {
   "display_name": "Python 3",
   "language": "python",
   "name": "python3"
  },
  "language_info": {
   "codemirror_mode": {
    "name": "ipython",
    "version": 2
   },
   "file_extension": ".py",
   "mimetype": "text/x-python",
   "name": "python",
   "nbconvert_exporter": "python",
   "pygments_lexer": "ipython2",
   "version": "2.7.6"
  }
 },
 "nbformat": 4,
 "nbformat_minor": 5
}
