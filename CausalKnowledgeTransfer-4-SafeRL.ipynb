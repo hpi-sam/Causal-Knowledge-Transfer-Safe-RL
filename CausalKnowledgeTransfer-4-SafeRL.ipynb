{
 "cells": [
  {
   "metadata": {},
   "cell_type": "markdown",
   "source": "# Causal Knowledge Transfer for Safe Reinforcement Learning",
   "id": "9b3534bf33e6bed9"
  },
  {
   "metadata": {},
   "cell_type": "markdown",
   "source": [
    "### Train Agents\n",
    "#### Sumo Network File\n",
    "When editing the sumo network (nets/simple_unprotected_right.net.xml) never edit the xml directly. Instead go to nets/netconfig and make desired changes there. Generate the new net.xml by executing config_net.sh\n",
    "#### Sumo Route File\n",
    "TODO: https://sumo.dlr.de/docs/Tools/Routes.html\n",
    "* vehicle types are still missing\n",
    "* vehicle2flow\n",
    "* TODO: generate config file\n",
    "#### Reward Function\n",
    "* TODO: Come up with a fitting reward function that penalises collisions\n",
    "#### RL Training\n",
    "* TODO: Come up with Hyperparameters for the training loop\n",
    "* TODO: Visualize the training\n",
    "\n",
    "**Desired Output: Trained_Model.zip**"
   ],
   "id": "76a3883d1cec1ee8"
  },
  {
   "cell_type": "code",
   "id": "initial_id",
   "metadata": {
    "collapsed": true,
    "ExecuteTime": {
     "end_time": "2024-08-14T23:07:18.502036Z",
     "start_time": "2024-08-14T23:07:18.498148Z"
    }
   },
   "source": "# TODO",
   "outputs": [
    {
     "data": {
      "text/plain": [
       "123"
      ]
     },
     "execution_count": 2,
     "metadata": {},
     "output_type": "execute_result"
    }
   ],
   "execution_count": 2
  },
  {
   "metadata": {},
   "cell_type": "markdown",
   "source": [
    "### Produce Traces\n",
    "Run the simulation repeatably to produce traces (data) for causal discovery.\n",
    "\n",
    "#### Data Selection\n",
    "TODO: Select which columns we want to do Causal Discovery on\n",
    "#### Data Summary\n",
    "TODO: Incorporate old data summary script\n",
    "\n",
    "**Desired Output: One CSV File containing all interesting data**\n"
   ],
   "id": "4f83a5026c16fe31"
  },
  {
   "metadata": {},
   "cell_type": "code",
   "outputs": [],
   "execution_count": null,
   "source": "# TODO",
   "id": "b973182d439275c6"
  },
  {
   "metadata": {},
   "cell_type": "markdown",
   "source": [
    "### Causal Discovery\n",
    "Discover causal graph\n",
    "\n",
    "TODO: Decide which discovery algorithm to use\n",
    "\n",
    "TODO: Figure out how to incorporate R code in Jupyter Notebook\n",
    "\n",
    "**Desired Output: Causal Graph XML File**"
   ],
   "id": "1de43ea98a1365db"
  },
  {
   "metadata": {},
   "cell_type": "code",
   "outputs": [],
   "execution_count": null,
   "source": "# TODO",
   "id": "ca7bf3cc83299253"
  },
  {
   "metadata": {},
   "cell_type": "markdown",
   "source": [
    "### Fit MLMs\n",
    "Fit MLMs based on Causal Discovery Graph\n",
    "\n",
    "TODO: Parse Graph XML into MLM parameters / formulae\n",
    "\n",
    "**Desired Output: MLM**"
   ],
   "id": "a3d03cf3105ec494"
  },
  {
   "metadata": {},
   "cell_type": "code",
   "outputs": [],
   "execution_count": null,
   "source": "# TODO",
   "id": "829786814c4f2bda"
  },
  {
   "metadata": {},
   "cell_type": "markdown",
   "source": [
    "### Produce Interventions\n",
    "\n",
    "#### Covariate Shift Distribution\n",
    "* Create a distribution for the covariate (friction) shift\n",
    "* Sample from distribution\n",
    "    * Fulfill Assumption: sparse sample data is representative for covariate shift ground truth\n",
    "* Produce Traces for sparse input data\n",
    "\n",
    "#### Crank MLM the other way\n",
    "* Calculate Intervention Distribution by inputting sparse data into MLM\n",
    "\n",
    "**Desired Output: Intervention Distribution**"
   ],
   "id": "a5c99e021c7da84f"
  },
  {
   "metadata": {},
   "cell_type": "code",
   "outputs": [],
   "execution_count": null,
   "source": "# TODO",
   "id": "32459df33ac2d588"
  },
  {
   "metadata": {},
   "cell_type": "markdown",
   "source": [
    "### Generate Posterior Distributions\n",
    "TODO: Generate Posterior Distributions without intervention\n",
    "\n",
    "TODO: Generate Posterior Distributions with intervention\n",
    "\n",
    "**Desired Output: Two XML Files**"
   ],
   "id": "c86f426933c2843a"
  },
  {
   "metadata": {},
   "cell_type": "code",
   "outputs": [],
   "execution_count": null,
   "source": "# TODO",
   "id": "730155056916357a"
  },
  {
   "metadata": {},
   "cell_type": "markdown",
   "source": [
    "### Query\n",
    "Compare Distributions and decide, which part of the model to retrain.\n",
    "\n",
    "TODO: Classify the data / model in parts"
   ],
   "id": "71229ba166fe756f"
  },
  {
   "metadata": {},
   "cell_type": "code",
   "outputs": [],
   "execution_count": null,
   "source": "# TODO",
   "id": "73190c3130a276a3"
  },
  {
   "metadata": {},
   "cell_type": "markdown",
   "source": [
    "### Evaluation\n",
    "\n",
    "#### Agent\n",
    "compare new resulting agent (partially continued training depending on Query) to:\n",
    "* Old agent (Lower performance bound)\n",
    "* Completely newly trained agent (upper performance bound)\n",
    "* (New Agent that is trained completely on new data (without Query))\n",
    "\n",
    "#### Intervention\n",
    "Function: Number of Covariate Shift Samples --> Wasserstein distance: Intervention vs. ground truth (distribution)\n",
    "\n",
    "#### MLM\n",
    "* Wasserstein Distance: Effect of Intervention vs. ground truth effect\n",
    "* Maybe also as a function of the number of retrain samples\n",
    "\n"
   ],
   "id": "6cdb163f340d239c"
  },
  {
   "metadata": {},
   "cell_type": "code",
   "outputs": [],
   "execution_count": null,
   "source": "# TODO",
   "id": "b28fb56662cf1a7a"
  }
 ],
 "metadata": {
  "kernelspec": {
   "display_name": "Python 3",
   "language": "python",
   "name": "python3"
  },
  "language_info": {
   "codemirror_mode": {
    "name": "ipython",
    "version": 2
   },
   "file_extension": ".py",
   "mimetype": "text/x-python",
   "name": "python",
   "nbconvert_exporter": "python",
   "pygments_lexer": "ipython2",
   "version": "2.7.6"
  }
 },
 "nbformat": 4,
 "nbformat_minor": 5
}
