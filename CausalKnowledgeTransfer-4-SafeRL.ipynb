{
 "cells": [
  {
   "metadata": {},
   "cell_type": "markdown",
   "source": "# Causal Knowledge Transfer for Safe Reinforcement Learning",
   "id": "9b3534bf33e6bed9"
  },
  {
   "metadata": {},
   "cell_type": "markdown",
   "source": [
    "### Train Agents\n",
    "#### Sumo Network File\n",
    "When editing the sumo network (nets/simple_unprotected_right.net.xml) never edit the xml directly. Instead, go to nets/netconfig and make desired changes there. Generate the new net.xml by executing generate config.sh\n",
    "#### Sumo Route File\n",
    "This is part of the generate_config.sh now.\n",
    "#### Reward Function\n",
    "* TODO: Come up with a fitting reward function that penalises collisions\n",
    "#### RL Training\n",
    "* TODO: Come up with Hyperparameters for the training loop\n",
    "\n",
    "**Desired Output: Trained_Model.zip**"
   ],
   "id": "76a3883d1cec1ee8"
  },
  {
   "metadata": {},
   "cell_type": "markdown",
   "source": "### Creating the Sumo Environment",
   "id": "696c12a4c9cece3a"
  },
  {
   "metadata": {},
   "cell_type": "code",
   "source": [
    "# Make sure SUMO_HOME is set!\n",
    "sumo_home = %env SUMO_HOME\n",
    "from pathlib import Path\n",
    "\n",
    "FRICTION = 1\n",
    "END_TIME = 3600\n",
    "REPEAT_PERIOD = 10\n",
    "\n",
    "config_directory = Path().joinpath('nets', 'simple_unprotected_right')\n",
    "config_files = {\n",
    "    'netccfg': config_directory.joinpath('simple_unprotected_right.netccfg'),\n",
    "    'duarcfg': config_directory.joinpath('simple_unprotected_right.duarcfg'),\n",
    "    'net.xml': config_directory.joinpath('simple_unprotected_right.net.xml'),\n",
    "    'rou.xml': config_directory.joinpath('simple_unprotected_right.rou.xml'),\n",
    "    'routes.rou.xml': config_directory.joinpath('routes.rou.xml'),\n",
    "    'config.rou.xml': config_directory.joinpath('config.rou.xml'),\n",
    "}\n",
    "\n",
    "findAllRoutes = Path(sumo_home).joinpath('tools', 'findAllRoutes.py')\n",
    "vehicle2flow = Path(sumo_home).joinpath('tools', 'route', 'vehicle2flow.py')\n",
    "\n",
    "! netconvert --configuration-file {config_files['netccfg']} --default.friction {FRICTION}\n",
    "\n",
    "! python {findAllRoutes} -n {config_files['net.xml']} -o {config_files['routes.rou.xml']} -s southJunction,westJunction -t junctionEast,junctionNorth\n",
    "\n",
    "! duarouter --configuration-file {config_files['duarcfg']}\n",
    "\n",
    "! python {vehicle2flow} {config_files['config.rou.xml']} -o {config_files['rou.xml']} -e {END_TIME} -r {REPEAT_PERIOD}\n"
   ],
   "id": "e95329e734a9e91e",
   "outputs": [],
   "execution_count": null
  },
  {
   "metadata": {},
   "cell_type": "code",
   "source": [
    "from env.SumoEnvironmentGenerator import SumoEnvironmentGenerator\n",
    "from pathlib import Path\n",
    "\n",
    "environments = SumoEnvironmentGenerator(\n",
    "    net_file=str(Path().joinpath('nets', 'simple_unprotected_right', 'simple_unprotected_right.net.xml')),\n",
    "    route_file=str(Path().joinpath('nets', 'simple_unprotected_right', 'simple_unprotected_right.rou.xml')),\n",
    "    sumocfg_file=str(Path().joinpath('nets', 'simple_unprotected_right', 'simple_unprotected_right.sumocfg')),\n",
    "    duration=3600,\n",
    "    learning_data_csv_name=str(Path().joinpath('env', 'training_data', 'output.csv')),\n",
    ")"
   ],
   "id": "83958ce226f27b73",
   "outputs": [],
   "execution_count": null
  },
  {
   "metadata": {},
   "cell_type": "markdown",
   "source": "### Training and saving the Model",
   "id": "e6f9f4917eb5beff"
  },
  {
   "metadata": {},
   "cell_type": "code",
   "source": [
    "from stable_baselines3.a2c import A2C\n",
    "\n",
    "%load_ext tensorboard\n",
    "env = environments.get_training_env()\n",
    "model = A2C(\n",
    "    env=env,\n",
    "    policy='MlpPolicy',\n",
    "    # learning_rate=0.001,\n",
    "    # learning_starts=0,\n",
    "    # train_freq=1,\n",
    "    # target_update_interval=500,\n",
    "    # exploration_fraction=0.05,\n",
    "    # exploration_final_eps=0.01,\n",
    "    verbose=1,\n",
    "    tensorboard_log='dqn_sumo_tensorboard'\n",
    ")\n",
    "model.learn(100_000, tb_log_name='a2c')\n",
    "model.save(Path().joinpath('env', 'training_data', 'a2c'))"
   ],
   "id": "8c3f5ee8509cdf52",
   "outputs": [],
   "execution_count": null
  },
  {
   "metadata": {},
   "cell_type": "markdown",
   "source": "Giving the model a test run in an evaluation environment",
   "id": "4604104a64fb90ae"
  },
  {
   "metadata": {},
   "cell_type": "code",
   "source": [
    "from stable_baselines3.a2c import A2C\n",
    "\n",
    "env = environments.get_demonstration_env()\n",
    "model = A2C(env=env, policy='MlpPolicy').load(Path().joinpath('env', 'training_data', 'a2c'))\n",
    "\n",
    "obs, info = env.reset()\n",
    "done = False\n",
    "while not done:\n",
    "    action, _state = model.predict(obs, deterministic=True)\n",
    "    obs, reward, terminated, truncated, info = env.step(action)\n",
    "    done = terminated or truncated\n",
    "env.close()"
   ],
   "id": "4e7f9cc33d31421c",
   "outputs": [],
   "execution_count": null
  },
  {
   "metadata": {},
   "cell_type": "markdown",
   "source": [
    "### Produce Traces\n",
    "Run the simulation repeatably to produce traces (data) for causal discovery.\n",
    "\n",
    "#### Data Selection\n",
    "TODO: Select which columns we want to do Causal Discovery on\n",
    "#### Data Summary\n",
    "TODO: Incorporate old data summary script\n",
    "\n",
    "**Desired Output: One CSV File containing all interesting data**\n"
   ],
   "id": "4f83a5026c16fe31"
  },
  {
   "metadata": {},
   "cell_type": "code",
   "source": [
    "import numpy as np\n",
    "from stable_baselines3.a2c import A2C\n",
    "\n",
    "simulation_output_path = Path().joinpath('data', 'a2c_50_f0.5')\n",
    "Path.mkdir(simulation_output_path, parents=True, exist_ok=True)\n",
    "\n",
    "rng = np.random.default_rng()\n",
    "random_friction_values = rng.uniform(0.45, 0.55, size=100)\n",
    "\n",
    "for experiment, friction_coefficient in enumerate(random_friction_values):\n",
    "    env = environments.get_generation_env(output_prefix=str(simulation_output_path.joinpath(str(experiment).zfill(4))))\n",
    "    model = A2C(env=env, policy='MlpPolicy').load(Path().joinpath('env', 'training_data', 'a2c'))\n",
    "\n",
    "    obs, info = env.reset()\n",
    "    # Revisit Friction calculation\n",
    "    vehicletype = env.sumo.vehicletype\n",
    "    vehicletype.setDecel('car50Custom', vehicletype.getDecel('car50Custom') * friction_coefficient)\n",
    "    vehicletype.setEmergencyDecel('car50Custom', vehicletype.getEmergencyDecel('car50Custom') * friction_coefficient)\n",
    "    for traffic_signal in env.traffic_signals.values():\n",
    "        for lane in traffic_signal.lanes:\n",
    "            traffic_signal.sumo.lane.setParameter(lane, 'frictionCoefficient', friction_coefficient)\n",
    "\n",
    "    done = False\n",
    "    while not done:\n",
    "        action, _state = model.predict(obs, deterministic=True)\n",
    "        obs, _reward, terminated, truncated, info = env.step(action)\n",
    "        done = terminated or truncated\n",
    "    env.close()"
   ],
   "id": "b973182d439275c6",
   "outputs": [],
   "execution_count": null
  },
  {
   "metadata": {},
   "cell_type": "markdown",
   "source": "#### Data Summary",
   "id": "237d6d2f0b9c2225"
  },
  {
   "metadata": {},
   "cell_type": "code",
   "source": [
    "import glob\n",
    "from pathlib import Path\n",
    "import xml.etree.ElementTree as ElementTree\n",
    "import pandas as pd\n",
    "\n",
    "data_folder = Path().joinpath('data')\n",
    "experiments = glob.glob(str(data_folder.joinpath('*')))\n",
    "\n",
    "for experiment in experiments:\n",
    "    experiment_path = Path(experiment)\n",
    "    statistics_files = glob.glob(str(experiment_path.joinpath('*_statistics.xml')))\n",
    "    ids = [path.split('/')[-1].split('_')[0] for path in statistics_files]\n",
    "\n",
    "    data = []\n",
    "    for id in ids:\n",
    "        statistics_file = experiment_path.joinpath(id + '_statistics.xml')\n",
    "        collisions_file = experiment_path.joinpath(id + '_collisions.xml')\n",
    "        statistics_xml = ElementTree.parse(statistics_file).getroot()\n",
    "        collisions_xml = ElementTree.parse(collisions_file).getroot()\n",
    "\n",
    "        row = {\n",
    "            'experiment': experiment,\n",
    "            'index': int(id),\n",
    "            'desiredSpeed': 50\n",
    "        }\n",
    "\n",
    "        for key, value in {**statistics_xml.find('vehicleTripStatistics').attrib,\n",
    "                           **statistics_xml.find('safety').attrib}.items():\n",
    "            match key:\n",
    "                case 'count' | 'emergencyStops' | 'emergencyBraking':\n",
    "                    row[key] = int(value)\n",
    "                case 'collisions':\n",
    "                    row['rearEndCollisions'] = sum(\n",
    "                        'southEast' in child.attrib.get('victim') for child in collisions_xml)\n",
    "                    row['lateralCollisions'] = sum(\n",
    "                        'southEast' in child.attrib.get('collider') for child in collisions_xml)\n",
    "                    row[key] = row['rearEndCollisions'] + row['lateralCollisions']\n",
    "                case _:\n",
    "                    row[key] = float(value)\n",
    "\n",
    "        data.append(row)\n",
    "\n",
    "    df = pd.DataFrame(data)\n",
    "    df.to_csv(experiment_path.joinpath('.summary.csv'), index=False)"
   ],
   "id": "2e2dd00337e5afd0",
   "outputs": [],
   "execution_count": null
  },
  {
   "metadata": {},
   "cell_type": "code",
   "source": [
    "import pandas as pd\n",
    "from pathlib import Path\n",
    "import seaborn as sns\n",
    "\n",
    "data_folder = Path().joinpath('data')\n",
    "\n",
    "data_full_friction = pd.read_csv(data_folder.joinpath('a2c_50', '.summary.csv'))\n",
    "data_half_friction = pd.read_csv(data_folder.joinpath('a2c_50_f0.5', '.summary.csv'))\n",
    "data_low_speed = pd.read_csv(data_folder.joinpath('a2cs30', '.summary.csv'))\n",
    "\n",
    "data = pd.concat([data_full_friction, data_half_friction, data_low_speed], ignore_index=True)\n",
    "\n",
    "sns.displot(data=data, label='Collisions', x='collisions', hue='experiment', kind='kde')\n",
    "sns.displot(data=data, label='Collisions', x='rearEndCollisions', hue='experiment', kind='kde')\n",
    "sns.displot(data=data, label='Collisions', x='lateralCollisions', hue='experiment', kind='kde')\n",
    "sns.displot(data=data, label='Collisions', x='speed', hue='experiment', kind='kde')"
   ],
   "id": "e399ea7eacff5e7d",
   "outputs": [],
   "execution_count": null
  },
  {
   "metadata": {},
   "cell_type": "markdown",
   "source": [
    "### Causal Discovery\n",
    "Discover causal graph\n",
    "\n",
    "TODO: Decide which discovery algorithm to use\n",
    "\n",
    "TODO: Figure out how to incorporate R code in Jupyter Notebook\n",
    "\n",
    "**Desired Output: Causal Graph XML File**"
   ],
   "id": "1de43ea98a1365db"
  },
  {
   "metadata": {},
   "cell_type": "code",
   "source": "# TODO",
   "id": "ca7bf3cc83299253",
   "outputs": [],
   "execution_count": null
  },
  {
   "metadata": {},
   "cell_type": "markdown",
   "source": [
    "### Fit MLMs\n",
    "Fit MLMs based on Causal Discovery Graph\n",
    "\n",
    "TODO: Parse Graph XML into MLM parameters / formulae\n",
    "\n",
    "**Desired Output: MLM**"
   ],
   "id": "a3d03cf3105ec494"
  },
  {
   "metadata": {},
   "cell_type": "code",
   "source": "# TODO",
   "id": "829786814c4f2bda",
   "outputs": [],
   "execution_count": null
  },
  {
   "metadata": {},
   "cell_type": "markdown",
   "source": [
    "### Produce Interventions\n",
    "\n",
    "#### Covariate Shift Distribution\n",
    "* Create a distribution for the covariate (friction) shift\n",
    "* Sample from distribution\n",
    "    * Fulfill Assumption: sparse sample data is representative for covariate shift ground truth\n",
    "* Produce Traces for sparse input data\n",
    "\n",
    "#### Crank MLM the other way\n",
    "* Calculate Intervention Distribution by inputting sparse data into MLM\n",
    "\n",
    "**Desired Output: Intervention Distribution**"
   ],
   "id": "a5c99e021c7da84f"
  },
  {
   "metadata": {},
   "cell_type": "code",
   "source": "# TODO",
   "id": "32459df33ac2d588",
   "outputs": [],
   "execution_count": null
  },
  {
   "metadata": {},
   "cell_type": "markdown",
   "source": [
    "### Generate Posterior Distributions\n",
    "TODO: Generate Posterior Distributions without intervention\n",
    "\n",
    "TODO: Generate Posterior Distributions with intervention\n",
    "\n",
    "**Desired Output: Two XML Files**"
   ],
   "id": "c86f426933c2843a"
  },
  {
   "metadata": {},
   "cell_type": "code",
   "source": "# TODO",
   "id": "730155056916357a",
   "outputs": [],
   "execution_count": null
  },
  {
   "metadata": {},
   "cell_type": "markdown",
   "source": [
    "### Query\n",
    "Compare Distributions and decide, which part of the model to retrain.\n",
    "\n",
    "TODO: Classify the data / model in parts"
   ],
   "id": "71229ba166fe756f"
  },
  {
   "metadata": {},
   "cell_type": "code",
   "source": "# TODO",
   "id": "73190c3130a276a3",
   "outputs": [],
   "execution_count": null
  },
  {
   "metadata": {},
   "cell_type": "markdown",
   "source": [
    "### Evaluation\n",
    "\n",
    "#### Agent\n",
    "compare new resulting agent (partially continued training depending on Query) to:\n",
    "* Old agent (Lower performance bound)\n",
    "* Completely newly trained agent (upper performance bound)\n",
    "* (New Agent that is trained completely on new data (without Query))\n",
    "\n",
    "#### Intervention\n",
    "Function: Number of Covariate Shift Samples --> Wasserstein distance: Intervention vs. ground truth (distribution)\n",
    "\n",
    "#### MLM\n",
    "* Wasserstein Distance: Effect of Intervention vs. ground truth effect\n",
    "* Maybe also as a function of the number of retrain samples\n",
    "\n"
   ],
   "id": "6cdb163f340d239c"
  },
  {
   "metadata": {},
   "cell_type": "code",
   "source": "# TODO",
   "id": "b28fb56662cf1a7a",
   "outputs": [],
   "execution_count": null
  },
  {
   "metadata": {},
   "cell_type": "markdown",
   "source": [
    "### Ideas\n",
    "* Maybe no change in friction but rather only in the requirements\n",
    "* Sophisticated Query: Causal Graph of Transfer Learning --> Generate Posterior for different transfer learning options --> Rank and choose best.\n",
    "* Collision / Penalty Factor for managing Safety/Performance tradeoff"
   ],
   "id": "8485d156269d6f45"
  }
 ],
 "metadata": {
  "kernelspec": {
   "display_name": "Python 3",
   "language": "python",
   "name": "python3"
  },
  "language_info": {
   "codemirror_mode": {
    "name": "ipython",
    "version": 2
   },
   "file_extension": ".py",
   "mimetype": "text/x-python",
   "name": "python",
   "nbconvert_exporter": "python",
   "pygments_lexer": "ipython2",
   "version": "2.7.6"
  }
 },
 "nbformat": 4,
 "nbformat_minor": 5
}
